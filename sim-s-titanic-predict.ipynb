{
 "cells": [
  {
   "cell_type": "markdown",
   "metadata": {
    "papermill": {
     "duration": 0.020422,
     "end_time": "2020-12-29T17:52:20.628193",
     "exception": false,
     "start_time": "2020-12-29T17:52:20.607771",
     "status": "completed"
    },
    "tags": []
   },
   "source": [
    "# Start\n",
    "\n",
    "This is my first time trying to create a notebook.\n",
    "\n",
    "Library, data preprocessing, modeling, and predicting and evaluation will take place in order.\n",
    "\n",
    "Even if it's not enough, I hope you think it's cute!"
   ]
  },
  {
   "cell_type": "markdown",
   "metadata": {
    "_cell_guid": "b1076dfc-b9ad-4769-8c92-a6c4dae69d19",
    "_uuid": "8f2839f25d086af736a60e9eeb907d3b93b6e0e5",
    "papermill": {
     "duration": 0.019236,
     "end_time": "2020-12-29T17:52:20.666968",
     "exception": false,
     "start_time": "2020-12-29T17:52:20.647732",
     "status": "completed"
    },
    "tags": []
   },
   "source": [
    "# Library"
   ]
  },
  {
   "cell_type": "code",
   "execution_count": 1,
   "metadata": {
    "_cell_guid": "79c7e3d0-c299-4dcb-8224-4455121ee9b0",
    "_uuid": "d629ff2d2480ee46fbb7e2d37f6b5fab8052498a",
    "execution": {
     "iopub.execute_input": "2020-12-29T17:52:20.712433Z",
     "iopub.status.busy": "2020-12-29T17:52:20.711778Z",
     "iopub.status.idle": "2020-12-29T17:52:21.803205Z",
     "shell.execute_reply": "2020-12-29T17:52:21.802398Z"
    },
    "papermill": {
     "duration": 1.116851,
     "end_time": "2020-12-29T17:52:21.803326",
     "exception": false,
     "start_time": "2020-12-29T17:52:20.686475",
     "status": "completed"
    },
    "tags": []
   },
   "outputs": [],
   "source": [
    "import numpy as np\n",
    "import pandas as pd\n",
    "import matplotlib.pyplot as plt\n",
    "import seaborn as sns\n",
    "%matplotlib inline\n",
    "\n",
    "from sklearn import preprocessing"
   ]
  },
  {
   "cell_type": "markdown",
   "metadata": {
    "papermill": {
     "duration": 0.019413,
     "end_time": "2020-12-29T17:52:21.843335",
     "exception": false,
     "start_time": "2020-12-29T17:52:21.823922",
     "status": "completed"
    },
    "tags": []
   },
   "source": [
    "# Input train data"
   ]
  },
  {
   "cell_type": "code",
   "execution_count": 2,
   "metadata": {
    "execution": {
     "iopub.execute_input": "2020-12-29T17:52:21.889519Z",
     "iopub.status.busy": "2020-12-29T17:52:21.888888Z",
     "iopub.status.idle": "2020-12-29T17:52:21.931468Z",
     "shell.execute_reply": "2020-12-29T17:52:21.930796Z"
    },
    "papermill": {
     "duration": 0.068661,
     "end_time": "2020-12-29T17:52:21.931582",
     "exception": false,
     "start_time": "2020-12-29T17:52:21.862921",
     "status": "completed"
    },
    "tags": []
   },
   "outputs": [
    {
     "data": {
      "text/html": [
       "<div>\n",
       "<style scoped>\n",
       "    .dataframe tbody tr th:only-of-type {\n",
       "        vertical-align: middle;\n",
       "    }\n",
       "\n",
       "    .dataframe tbody tr th {\n",
       "        vertical-align: top;\n",
       "    }\n",
       "\n",
       "    .dataframe thead th {\n",
       "        text-align: right;\n",
       "    }\n",
       "</style>\n",
       "<table border=\"1\" class=\"dataframe\">\n",
       "  <thead>\n",
       "    <tr style=\"text-align: right;\">\n",
       "      <th></th>\n",
       "      <th>PassengerId</th>\n",
       "      <th>Survived</th>\n",
       "      <th>Pclass</th>\n",
       "      <th>Name</th>\n",
       "      <th>Sex</th>\n",
       "      <th>Age</th>\n",
       "      <th>SibSp</th>\n",
       "      <th>Parch</th>\n",
       "      <th>Ticket</th>\n",
       "      <th>Fare</th>\n",
       "      <th>Cabin</th>\n",
       "      <th>Embarked</th>\n",
       "    </tr>\n",
       "  </thead>\n",
       "  <tbody>\n",
       "    <tr>\n",
       "      <th>0</th>\n",
       "      <td>1</td>\n",
       "      <td>0</td>\n",
       "      <td>3</td>\n",
       "      <td>Braund, Mr. Owen Harris</td>\n",
       "      <td>male</td>\n",
       "      <td>22.0</td>\n",
       "      <td>1</td>\n",
       "      <td>0</td>\n",
       "      <td>A/5 21171</td>\n",
       "      <td>7.2500</td>\n",
       "      <td>NaN</td>\n",
       "      <td>S</td>\n",
       "    </tr>\n",
       "    <tr>\n",
       "      <th>1</th>\n",
       "      <td>2</td>\n",
       "      <td>1</td>\n",
       "      <td>1</td>\n",
       "      <td>Cumings, Mrs. John Bradley (Florence Briggs Th...</td>\n",
       "      <td>female</td>\n",
       "      <td>38.0</td>\n",
       "      <td>1</td>\n",
       "      <td>0</td>\n",
       "      <td>PC 17599</td>\n",
       "      <td>71.2833</td>\n",
       "      <td>C85</td>\n",
       "      <td>C</td>\n",
       "    </tr>\n",
       "    <tr>\n",
       "      <th>2</th>\n",
       "      <td>3</td>\n",
       "      <td>1</td>\n",
       "      <td>3</td>\n",
       "      <td>Heikkinen, Miss. Laina</td>\n",
       "      <td>female</td>\n",
       "      <td>26.0</td>\n",
       "      <td>0</td>\n",
       "      <td>0</td>\n",
       "      <td>STON/O2. 3101282</td>\n",
       "      <td>7.9250</td>\n",
       "      <td>NaN</td>\n",
       "      <td>S</td>\n",
       "    </tr>\n",
       "    <tr>\n",
       "      <th>3</th>\n",
       "      <td>4</td>\n",
       "      <td>1</td>\n",
       "      <td>1</td>\n",
       "      <td>Futrelle, Mrs. Jacques Heath (Lily May Peel)</td>\n",
       "      <td>female</td>\n",
       "      <td>35.0</td>\n",
       "      <td>1</td>\n",
       "      <td>0</td>\n",
       "      <td>113803</td>\n",
       "      <td>53.1000</td>\n",
       "      <td>C123</td>\n",
       "      <td>S</td>\n",
       "    </tr>\n",
       "    <tr>\n",
       "      <th>4</th>\n",
       "      <td>5</td>\n",
       "      <td>0</td>\n",
       "      <td>3</td>\n",
       "      <td>Allen, Mr. William Henry</td>\n",
       "      <td>male</td>\n",
       "      <td>35.0</td>\n",
       "      <td>0</td>\n",
       "      <td>0</td>\n",
       "      <td>373450</td>\n",
       "      <td>8.0500</td>\n",
       "      <td>NaN</td>\n",
       "      <td>S</td>\n",
       "    </tr>\n",
       "  </tbody>\n",
       "</table>\n",
       "</div>"
      ],
      "text/plain": [
       "   PassengerId  Survived  Pclass  \\\n",
       "0            1         0       3   \n",
       "1            2         1       1   \n",
       "2            3         1       3   \n",
       "3            4         1       1   \n",
       "4            5         0       3   \n",
       "\n",
       "                                                Name     Sex   Age  SibSp  \\\n",
       "0                            Braund, Mr. Owen Harris    male  22.0      1   \n",
       "1  Cumings, Mrs. John Bradley (Florence Briggs Th...  female  38.0      1   \n",
       "2                             Heikkinen, Miss. Laina  female  26.0      0   \n",
       "3       Futrelle, Mrs. Jacques Heath (Lily May Peel)  female  35.0      1   \n",
       "4                           Allen, Mr. William Henry    male  35.0      0   \n",
       "\n",
       "   Parch            Ticket     Fare Cabin Embarked  \n",
       "0      0         A/5 21171   7.2500   NaN        S  \n",
       "1      0          PC 17599  71.2833   C85        C  \n",
       "2      0  STON/O2. 3101282   7.9250   NaN        S  \n",
       "3      0            113803  53.1000  C123        S  \n",
       "4      0            373450   8.0500   NaN        S  "
      ]
     },
     "execution_count": 2,
     "metadata": {},
     "output_type": "execute_result"
    }
   ],
   "source": [
    "titanic_df = pd.read_csv('/kaggle/input/titanic/train.csv')\n",
    "titanic_df.head(5)"
   ]
  },
  {
   "cell_type": "markdown",
   "metadata": {
    "papermill": {
     "duration": 0.019885,
     "end_time": "2020-12-29T17:52:21.972276",
     "exception": false,
     "start_time": "2020-12-29T17:52:21.952391",
     "status": "completed"
    },
    "tags": []
   },
   "source": [
    "## Check the number of rows and columns and check the null value and think about how to handle it."
   ]
  },
  {
   "cell_type": "code",
   "execution_count": 3,
   "metadata": {
    "execution": {
     "iopub.execute_input": "2020-12-29T17:52:22.028680Z",
     "iopub.status.busy": "2020-12-29T17:52:22.027980Z",
     "iopub.status.idle": "2020-12-29T17:52:22.031847Z",
     "shell.execute_reply": "2020-12-29T17:52:22.031083Z"
    },
    "papermill": {
     "duration": 0.038529,
     "end_time": "2020-12-29T17:52:22.032001",
     "exception": false,
     "start_time": "2020-12-29T17:52:21.993472",
     "status": "completed"
    },
    "tags": []
   },
   "outputs": [
    {
     "name": "stdout",
     "output_type": "stream",
     "text": [
      "<class 'pandas.core.frame.DataFrame'>\n",
      "RangeIndex: 891 entries, 0 to 890\n",
      "Data columns (total 12 columns):\n",
      " #   Column       Non-Null Count  Dtype  \n",
      "---  ------       --------------  -----  \n",
      " 0   PassengerId  891 non-null    int64  \n",
      " 1   Survived     891 non-null    int64  \n",
      " 2   Pclass       891 non-null    int64  \n",
      " 3   Name         891 non-null    object \n",
      " 4   Sex          891 non-null    object \n",
      " 5   Age          714 non-null    float64\n",
      " 6   SibSp        891 non-null    int64  \n",
      " 7   Parch        891 non-null    int64  \n",
      " 8   Ticket       891 non-null    object \n",
      " 9   Fare         891 non-null    float64\n",
      " 10  Cabin        204 non-null    object \n",
      " 11  Embarked     889 non-null    object \n",
      "dtypes: float64(2), int64(5), object(5)\n",
      "memory usage: 83.7+ KB\n",
      "None\n"
     ]
    }
   ],
   "source": [
    "print(titanic_df.info())"
   ]
  },
  {
   "cell_type": "markdown",
   "metadata": {
    "papermill": {
     "duration": 0.021595,
     "end_time": "2020-12-29T17:52:22.075763",
     "exception": false,
     "start_time": "2020-12-29T17:52:22.054168",
     "status": "completed"
    },
    "tags": []
   },
   "source": [
    "## The null value was changed to mean or fixed value using the fillna function."
   ]
  },
  {
   "cell_type": "code",
   "execution_count": 4,
   "metadata": {
    "execution": {
     "iopub.execute_input": "2020-12-29T17:52:22.128490Z",
     "iopub.status.busy": "2020-12-29T17:52:22.127763Z",
     "iopub.status.idle": "2020-12-29T17:52:22.131227Z",
     "shell.execute_reply": "2020-12-29T17:52:22.130607Z"
    },
    "papermill": {
     "duration": 0.034154,
     "end_time": "2020-12-29T17:52:22.131347",
     "exception": false,
     "start_time": "2020-12-29T17:52:22.097193",
     "status": "completed"
    },
    "tags": []
   },
   "outputs": [
    {
     "name": "stdout",
     "output_type": "stream",
     "text": [
      "dataset의 Null 값 갯수: 0\n"
     ]
    }
   ],
   "source": [
    "titanic_df['Age'].fillna(titanic_df['Age'].mean(), inplace = True)\n",
    "titanic_df['Cabin'].fillna('N', inplace = True)\n",
    "titanic_df['Embarked'].fillna('N', inplace = True)\n",
    "print('dataset의 Null 값 갯수:',titanic_df.isnull().sum().sum())"
   ]
  },
  {
   "cell_type": "markdown",
   "metadata": {
    "papermill": {
     "duration": 0.020842,
     "end_time": "2020-12-29T17:52:22.173303",
     "exception": false,
     "start_time": "2020-12-29T17:52:22.152461",
     "status": "completed"
    },
    "tags": []
   },
   "source": [
    "## Changed the string feature to numeric data."
   ]
  },
  {
   "cell_type": "code",
   "execution_count": 5,
   "metadata": {
    "execution": {
     "iopub.execute_input": "2020-12-29T17:52:22.227706Z",
     "iopub.status.busy": "2020-12-29T17:52:22.226979Z",
     "iopub.status.idle": "2020-12-29T17:52:22.230687Z",
     "shell.execute_reply": "2020-12-29T17:52:22.230054Z"
    },
    "papermill": {
     "duration": 0.036082,
     "end_time": "2020-12-29T17:52:22.230810",
     "exception": false,
     "start_time": "2020-12-29T17:52:22.194728",
     "status": "completed"
    },
    "tags": []
   },
   "outputs": [
    {
     "name": "stdout",
     "output_type": "stream",
     "text": [
      " Sex 값 분포:\n",
      " male      577\n",
      "female    314\n",
      "Name: Sex, dtype: int64\n",
      "\n",
      " Cabin 값 분포:\n",
      " N              687\n",
      "G6               4\n",
      "C23 C25 C27      4\n",
      "B96 B98          4\n",
      "C22 C26          3\n",
      "              ... \n",
      "A14              1\n",
      "B82 B84          1\n",
      "C49              1\n",
      "A16              1\n",
      "C128             1\n",
      "Name: Cabin, Length: 148, dtype: int64\n",
      "\n",
      " Embarked 값 분포:\n",
      " S    644\n",
      "C    168\n",
      "Q     77\n",
      "N      2\n",
      "Name: Embarked, dtype: int64\n"
     ]
    }
   ],
   "source": [
    "print(' Sex 값 분포:\\n', titanic_df['Sex'].value_counts())\n",
    "print('\\n Cabin 값 분포:\\n', titanic_df['Cabin'].value_counts())\n",
    "print('\\n Embarked 값 분포:\\n', titanic_df['Embarked'].value_counts())"
   ]
  },
  {
   "cell_type": "code",
   "execution_count": 6,
   "metadata": {
    "execution": {
     "iopub.execute_input": "2020-12-29T17:52:22.282671Z",
     "iopub.status.busy": "2020-12-29T17:52:22.281794Z",
     "iopub.status.idle": "2020-12-29T17:52:22.284858Z",
     "shell.execute_reply": "2020-12-29T17:52:22.285338Z"
    },
    "papermill": {
     "duration": 0.032586,
     "end_time": "2020-12-29T17:52:22.285496",
     "exception": false,
     "start_time": "2020-12-29T17:52:22.252910",
     "status": "completed"
    },
    "tags": []
   },
   "outputs": [
    {
     "name": "stdout",
     "output_type": "stream",
     "text": [
      "0    N\n",
      "1    C\n",
      "2    N\n",
      "3    C\n",
      "4    N\n",
      "Name: Cabin, dtype: object\n"
     ]
    }
   ],
   "source": [
    "titanic_df['Cabin'] = titanic_df['Cabin'].str[:1]\n",
    "print(titanic_df['Cabin'].head(5))"
   ]
  },
  {
   "cell_type": "markdown",
   "metadata": {
    "papermill": {
     "duration": 0.021903,
     "end_time": "2020-12-29T17:52:22.329505",
     "exception": false,
     "start_time": "2020-12-29T17:52:22.307602",
     "status": "completed"
    },
    "tags": []
   },
   "source": [
    "### looked to see if the survivors had anything to do with gender. \n",
    "\n",
    "The number of passengers on board was 577 men and 314 women, more men, but 74.2 percent of women survived, and 18.8 percent of men survived."
   ]
  },
  {
   "cell_type": "code",
   "execution_count": 7,
   "metadata": {
    "execution": {
     "iopub.execute_input": "2020-12-29T17:52:22.380565Z",
     "iopub.status.busy": "2020-12-29T17:52:22.379912Z",
     "iopub.status.idle": "2020-12-29T17:52:22.387588Z",
     "shell.execute_reply": "2020-12-29T17:52:22.388067Z"
    },
    "papermill": {
     "duration": 0.035992,
     "end_time": "2020-12-29T17:52:22.388219",
     "exception": false,
     "start_time": "2020-12-29T17:52:22.352227",
     "status": "completed"
    },
    "tags": []
   },
   "outputs": [
    {
     "data": {
      "text/plain": [
       "Sex     Survived\n",
       "female  0            81\n",
       "        1           233\n",
       "male    0           468\n",
       "        1           109\n",
       "Name: Survived, dtype: int64"
      ]
     },
     "execution_count": 7,
     "metadata": {},
     "output_type": "execute_result"
    }
   ],
   "source": [
    "titanic_df.groupby(['Sex','Survived'])['Survived'].count()"
   ]
  },
  {
   "cell_type": "code",
   "execution_count": 8,
   "metadata": {
    "execution": {
     "iopub.execute_input": "2020-12-29T17:52:22.442029Z",
     "iopub.status.busy": "2020-12-29T17:52:22.440464Z",
     "iopub.status.idle": "2020-12-29T17:52:22.655713Z",
     "shell.execute_reply": "2020-12-29T17:52:22.655008Z"
    },
    "papermill": {
     "duration": 0.245065,
     "end_time": "2020-12-29T17:52:22.655856",
     "exception": false,
     "start_time": "2020-12-29T17:52:22.410791",
     "status": "completed"
    },
    "tags": []
   },
   "outputs": [
    {
     "data": {
      "text/plain": [
       "<matplotlib.axes._subplots.AxesSubplot at 0x7fd59ab89d90>"
      ]
     },
     "execution_count": 8,
     "metadata": {},
     "output_type": "execute_result"
    },
    {
     "data": {
      "image/png": "[encoded data removed]",
      "text/plain": [
       "<Figure size 432x288 with 1 Axes>"
      ]
     },
     "metadata": {
      "needs_background": "light"
     },
     "output_type": "display_data"
    }
   ],
   "source": [
    "sns.barplot(x='Sex', y='Survived', data =titanic_df)"
   ]
  },
  {
   "cell_type": "markdown",
   "metadata": {
    "papermill": {
     "duration": 0.023037,
     "end_time": "2020-12-29T17:52:22.702591",
     "exception": false,
     "start_time": "2020-12-29T17:52:22.679554",
     "status": "completed"
    },
    "tags": []
   },
   "source": [
    "### looked at the probability of survival according to the room class.\n",
    "\n",
    "In the case of women, the probability of survival is relatively low when they are in the third-class room, and in the case of men, the probability of survival in the first-class room is far higher. As a result, the higher the rating, the higher the chance of survival."
   ]
  },
  {
   "cell_type": "code",
   "execution_count": 9,
   "metadata": {
    "execution": {
     "iopub.execute_input": "2020-12-29T17:52:22.756193Z",
     "iopub.status.busy": "2020-12-29T17:52:22.754473Z",
     "iopub.status.idle": "2020-12-29T17:52:23.039803Z",
     "shell.execute_reply": "2020-12-29T17:52:23.039190Z"
    },
    "papermill": {
     "duration": 0.314192,
     "end_time": "2020-12-29T17:52:23.039913",
     "exception": false,
     "start_time": "2020-12-29T17:52:22.725721",
     "status": "completed"
    },
    "tags": []
   },
   "outputs": [
    {
     "data": {
      "text/plain": [
       "<matplotlib.axes._subplots.AxesSubplot at 0x7fd592c0f050>"
      ]
     },
     "execution_count": 9,
     "metadata": {},
     "output_type": "execute_result"
    },
    {
     "data": {
      "image/png": "[encoded data removed]",
      "text/plain": [
       "<Figure size 432x288 with 1 Axes>"
      ]
     },
     "metadata": {
      "needs_background": "light"
     },
     "output_type": "display_data"
    }
   ],
   "source": [
    "sns.barplot(x='Pclass', y='Survived', hue='Sex', data=titanic_df)"
   ]
  },
  {
   "cell_type": "markdown",
   "metadata": {
    "papermill": {
     "duration": 0.02373,
     "end_time": "2020-12-29T17:52:23.088226",
     "exception": false,
     "start_time": "2020-12-29T17:52:23.064496",
     "status": "completed"
    },
    "tags": []
   },
   "source": [
    "### categorized the survival probabilities according to age groups.\n",
    "\n"
   ]
  },
  {
   "cell_type": "code",
   "execution_count": 10,
   "metadata": {
    "execution": {
     "iopub.execute_input": "2020-12-29T17:52:23.143895Z",
     "iopub.status.busy": "2020-12-29T17:52:23.143042Z",
     "iopub.status.idle": "2020-12-29T17:52:23.145913Z",
     "shell.execute_reply": "2020-12-29T17:52:23.145354Z"
    },
    "papermill": {
     "duration": 0.03351,
     "end_time": "2020-12-29T17:52:23.146022",
     "exception": false,
     "start_time": "2020-12-29T17:52:23.112512",
     "status": "completed"
    },
    "tags": []
   },
   "outputs": [],
   "source": [
    "def get_category(age):\n",
    "    cat = ''\n",
    "    if age <= -1: cat = 'Unknown'\n",
    "    elif age <= 5: cat = 'Baby'\n",
    "    elif age <= 12: cat = 'Child'\n",
    "    elif age <= 18: cat = 'Teenager'\n",
    "    elif age <= 25: cat = 'Student'\n",
    "    elif age <= 35: cat = 'Young Adult'\n",
    "    elif age <= 60: cat = 'Adult'\n",
    "    else: cat = 'Elderly'\n",
    "        \n",
    "    return cat"
   ]
  },
  {
   "cell_type": "code",
   "execution_count": 11,
   "metadata": {
    "execution": {
     "iopub.execute_input": "2020-12-29T17:52:23.205476Z",
     "iopub.status.busy": "2020-12-29T17:52:23.204725Z",
     "iopub.status.idle": "2020-12-29T17:52:23.781260Z",
     "shell.execute_reply": "2020-12-29T17:52:23.780690Z"
    },
    "papermill": {
     "duration": 0.610486,
     "end_time": "2020-12-29T17:52:23.781371",
     "exception": false,
     "start_time": "2020-12-29T17:52:23.170885",
     "status": "completed"
    },
    "tags": []
   },
   "outputs": [
    {
     "data": {
      "text/plain": [
       "<matplotlib.axes._subplots.AxesSubplot at 0x7fd592bb8490>"
      ]
     },
     "execution_count": 11,
     "metadata": {},
     "output_type": "execute_result"
    },
    {
     "data": {
      "image/png": "[encoded data removed]",
      "text/plain": [
       "<Figure size 720x432 with 1 Axes>"
      ]
     },
     "metadata": {
      "needs_background": "light"
     },
     "output_type": "display_data"
    }
   ],
   "source": [
    "plt.figure(figsize=(10,6))\n",
    "group_names = ['Unknown', 'Baby', 'Child', 'Teenager', \n",
    "               'Student', 'Young Adult', 'Adult', 'Elderly']\n",
    "\n",
    "titanic_df['Age_cat'] = titanic_df['Age'].apply(lambda x : get_category(x))\n",
    "sns.barplot(x='Age_cat', y='Survived', hue='Sex', data = titanic_df, order=group_names)"
   ]
  },
  {
   "cell_type": "markdown",
   "metadata": {
    "papermill": {
     "duration": 0.025295,
     "end_time": "2020-12-29T17:52:23.832930",
     "exception": false,
     "start_time": "2020-12-29T17:52:23.807635",
     "status": "completed"
    },
    "tags": []
   },
   "source": [
    "### The analysis so far shows that Sex, Age, and PClass features are important features for the Survived feature."
   ]
  },
  {
   "cell_type": "code",
   "execution_count": 12,
   "metadata": {
    "execution": {
     "iopub.execute_input": "2020-12-29T17:52:23.904239Z",
     "iopub.status.busy": "2020-12-29T17:52:23.903253Z",
     "iopub.status.idle": "2020-12-29T17:52:23.907760Z",
     "shell.execute_reply": "2020-12-29T17:52:23.907264Z"
    },
    "papermill": {
     "duration": 0.049194,
     "end_time": "2020-12-29T17:52:23.907882",
     "exception": false,
     "start_time": "2020-12-29T17:52:23.858688",
     "status": "completed"
    },
    "tags": []
   },
   "outputs": [
    {
     "data": {
      "text/html": [
       "<div>\n",
       "<style scoped>\n",
       "    .dataframe tbody tr th:only-of-type {\n",
       "        vertical-align: middle;\n",
       "    }\n",
       "\n",
       "    .dataframe tbody tr th {\n",
       "        vertical-align: top;\n",
       "    }\n",
       "\n",
       "    .dataframe thead th {\n",
       "        text-align: right;\n",
       "    }\n",
       "</style>\n",
       "<table border=\"1\" class=\"dataframe\">\n",
       "  <thead>\n",
       "    <tr style=\"text-align: right;\">\n",
       "      <th></th>\n",
       "      <th>PassengerId</th>\n",
       "      <th>Survived</th>\n",
       "      <th>Pclass</th>\n",
       "      <th>Name</th>\n",
       "      <th>Sex</th>\n",
       "      <th>Age</th>\n",
       "      <th>SibSp</th>\n",
       "      <th>Parch</th>\n",
       "      <th>Ticket</th>\n",
       "      <th>Fare</th>\n",
       "      <th>Cabin</th>\n",
       "      <th>Embarked</th>\n",
       "      <th>Age_cat</th>\n",
       "    </tr>\n",
       "  </thead>\n",
       "  <tbody>\n",
       "    <tr>\n",
       "      <th>0</th>\n",
       "      <td>1</td>\n",
       "      <td>0</td>\n",
       "      <td>3</td>\n",
       "      <td>Braund, Mr. Owen Harris</td>\n",
       "      <td>1</td>\n",
       "      <td>22.0</td>\n",
       "      <td>1</td>\n",
       "      <td>0</td>\n",
       "      <td>A/5 21171</td>\n",
       "      <td>7.2500</td>\n",
       "      <td>7</td>\n",
       "      <td>3</td>\n",
       "      <td>Student</td>\n",
       "    </tr>\n",
       "    <tr>\n",
       "      <th>1</th>\n",
       "      <td>2</td>\n",
       "      <td>1</td>\n",
       "      <td>1</td>\n",
       "      <td>Cumings, Mrs. John Bradley (Florence Briggs Th...</td>\n",
       "      <td>0</td>\n",
       "      <td>38.0</td>\n",
       "      <td>1</td>\n",
       "      <td>0</td>\n",
       "      <td>PC 17599</td>\n",
       "      <td>71.2833</td>\n",
       "      <td>2</td>\n",
       "      <td>0</td>\n",
       "      <td>Adult</td>\n",
       "    </tr>\n",
       "    <tr>\n",
       "      <th>2</th>\n",
       "      <td>3</td>\n",
       "      <td>1</td>\n",
       "      <td>3</td>\n",
       "      <td>Heikkinen, Miss. Laina</td>\n",
       "      <td>0</td>\n",
       "      <td>26.0</td>\n",
       "      <td>0</td>\n",
       "      <td>0</td>\n",
       "      <td>STON/O2. 3101282</td>\n",
       "      <td>7.9250</td>\n",
       "      <td>7</td>\n",
       "      <td>3</td>\n",
       "      <td>Young Adult</td>\n",
       "    </tr>\n",
       "    <tr>\n",
       "      <th>3</th>\n",
       "      <td>4</td>\n",
       "      <td>1</td>\n",
       "      <td>1</td>\n",
       "      <td>Futrelle, Mrs. Jacques Heath (Lily May Peel)</td>\n",
       "      <td>0</td>\n",
       "      <td>35.0</td>\n",
       "      <td>1</td>\n",
       "      <td>0</td>\n",
       "      <td>113803</td>\n",
       "      <td>53.1000</td>\n",
       "      <td>2</td>\n",
       "      <td>3</td>\n",
       "      <td>Young Adult</td>\n",
       "    </tr>\n",
       "    <tr>\n",
       "      <th>4</th>\n",
       "      <td>5</td>\n",
       "      <td>0</td>\n",
       "      <td>3</td>\n",
       "      <td>Allen, Mr. William Henry</td>\n",
       "      <td>1</td>\n",
       "      <td>35.0</td>\n",
       "      <td>0</td>\n",
       "      <td>0</td>\n",
       "      <td>373450</td>\n",
       "      <td>8.0500</td>\n",
       "      <td>7</td>\n",
       "      <td>3</td>\n",
       "      <td>Young Adult</td>\n",
       "    </tr>\n",
       "  </tbody>\n",
       "</table>\n",
       "</div>"
      ],
      "text/plain": [
       "   PassengerId  Survived  Pclass  \\\n",
       "0            1         0       3   \n",
       "1            2         1       1   \n",
       "2            3         1       3   \n",
       "3            4         1       1   \n",
       "4            5         0       3   \n",
       "\n",
       "                                                Name  Sex   Age  SibSp  Parch  \\\n",
       "0                            Braund, Mr. Owen Harris    1  22.0      1      0   \n",
       "1  Cumings, Mrs. John Bradley (Florence Briggs Th...    0  38.0      1      0   \n",
       "2                             Heikkinen, Miss. Laina    0  26.0      0      0   \n",
       "3       Futrelle, Mrs. Jacques Heath (Lily May Peel)    0  35.0      1      0   \n",
       "4                           Allen, Mr. William Henry    1  35.0      0      0   \n",
       "\n",
       "             Ticket     Fare  Cabin  Embarked      Age_cat  \n",
       "0         A/5 21171   7.2500      7         3      Student  \n",
       "1          PC 17599  71.2833      2         0        Adult  \n",
       "2  STON/O2. 3101282   7.9250      7         3  Young Adult  \n",
       "3            113803  53.1000      2         3  Young Adult  \n",
       "4            373450   8.0500      7         3  Young Adult  "
      ]
     },
     "execution_count": 12,
     "metadata": {},
     "output_type": "execute_result"
    }
   ],
   "source": [
    "def encode_features(dataDF):\n",
    "    features = ['Cabin', 'Sex', 'Embarked']\n",
    "    for feature in features:\n",
    "        le = preprocessing.LabelEncoder()\n",
    "        le = le.fit(dataDF[feature])\n",
    "        dataDF[feature] = le.transform(dataDF[feature])\n",
    "        \n",
    "    return dataDF\n",
    "\n",
    "titanic_df = encode_features(titanic_df)\n",
    "titanic_df.head()"
   ]
  },
  {
   "cell_type": "markdown",
   "metadata": {
    "papermill": {
     "duration": 0.025858,
     "end_time": "2020-12-29T17:52:23.960383",
     "exception": false,
     "start_time": "2020-12-29T17:52:23.934525",
     "status": "completed"
    },
    "tags": []
   },
   "source": [
    "### Summarizes the data preprocessing process into a transform_features() function.\n",
    "\n"
   ]
  },
  {
   "cell_type": "code",
   "execution_count": 13,
   "metadata": {
    "execution": {
     "iopub.execute_input": "2020-12-29T17:52:24.024164Z",
     "iopub.status.busy": "2020-12-29T17:52:24.023068Z",
     "iopub.status.idle": "2020-12-29T17:52:24.026447Z",
     "shell.execute_reply": "2020-12-29T17:52:24.025896Z"
    },
    "papermill": {
     "duration": 0.039696,
     "end_time": "2020-12-29T17:52:24.026569",
     "exception": false,
     "start_time": "2020-12-29T17:52:23.986873",
     "status": "completed"
    },
    "tags": []
   },
   "outputs": [],
   "source": [
    "def fillna(df):\n",
    "    df['Age'].fillna(df['Age'].mean(), inplace=True)\n",
    "    df['Cabin'].fillna('N', inplace = True)\n",
    "    df['Embarked'].fillna('N', inplace = True)\n",
    "    df['Fare'].fillna(0,inplace=True)\n",
    "    return df\n",
    "\n",
    "def drop_features(df):\n",
    "    df.drop(['Name', 'Ticket'], axis = 1, inplace = True)\n",
    "    return df\n",
    "\n",
    "def format_features(df):\n",
    "    df['Cabin'] = df['Cabin'].str[:1]\n",
    "    features = ['Cabin', 'Sex', 'Embarked']\n",
    "    for feature in features:\n",
    "        le = preprocessing.LabelEncoder()\n",
    "        le = le.fit(df[feature])\n",
    "        df[feature] = le.transform(df[feature])\n",
    "    return df\n",
    "\n",
    "def transform_features(df):\n",
    "    df = fillna(df)\n",
    "    df = drop_features(df)\n",
    "    df = format_features(df)\n",
    "    return df"
   ]
  },
  {
   "cell_type": "code",
   "execution_count": 14,
   "metadata": {
    "execution": {
     "iopub.execute_input": "2020-12-29T17:52:24.086229Z",
     "iopub.status.busy": "2020-12-29T17:52:24.085154Z",
     "iopub.status.idle": "2020-12-29T17:52:24.101362Z",
     "shell.execute_reply": "2020-12-29T17:52:24.100845Z"
    },
    "papermill": {
     "duration": 0.048702,
     "end_time": "2020-12-29T17:52:24.101528",
     "exception": false,
     "start_time": "2020-12-29T17:52:24.052826",
     "status": "completed"
    },
    "tags": []
   },
   "outputs": [],
   "source": [
    "titanic_df = pd.read_csv('/kaggle/input/titanic/train.csv')\n",
    "y_titanic_df = titanic_df['Survived']\n",
    "X_titanic_df = titanic_df.drop('Survived', axis = 1)\n",
    "\n",
    "X_titanic_df = transform_features(X_titanic_df)"
   ]
  },
  {
   "cell_type": "markdown",
   "metadata": {
    "papermill": {
     "duration": 0.026271,
     "end_time": "2020-12-29T17:52:24.154934",
     "exception": false,
     "start_time": "2020-12-29T17:52:24.128663",
     "status": "completed"
    },
    "tags": []
   },
   "source": [
    "### Extract separate test data sets using train_test_split()."
   ]
  },
  {
   "cell_type": "code",
   "execution_count": 15,
   "metadata": {
    "execution": {
     "iopub.execute_input": "2020-12-29T17:52:24.213589Z",
     "iopub.status.busy": "2020-12-29T17:52:24.212911Z",
     "iopub.status.idle": "2020-12-29T17:52:24.273870Z",
     "shell.execute_reply": "2020-12-29T17:52:24.273238Z"
    },
    "papermill": {
     "duration": 0.092058,
     "end_time": "2020-12-29T17:52:24.273992",
     "exception": false,
     "start_time": "2020-12-29T17:52:24.181934",
     "status": "completed"
    },
    "tags": []
   },
   "outputs": [],
   "source": [
    "from sklearn.model_selection import train_test_split\n",
    "X_train,X_test,y_train,y_test = train_test_split(X_titanic_df, y_titanic_df, test_size=0.2, random_state = 11)"
   ]
  },
  {
   "cell_type": "markdown",
   "metadata": {
    "papermill": {
     "duration": 0.026128,
     "end_time": "2020-12-29T17:52:24.326846",
     "exception": false,
     "start_time": "2020-12-29T17:52:24.300718",
     "status": "completed"
    },
    "tags": []
   },
   "source": [
    "### Use DecisionTree, RandomForrest, and LogicRegression to predict survivors.\n",
    "\n",
    "RandomForrest is the highest."
   ]
  },
  {
   "cell_type": "code",
   "execution_count": 16,
   "metadata": {
    "execution": {
     "iopub.execute_input": "2020-12-29T17:52:24.388935Z",
     "iopub.status.busy": "2020-12-29T17:52:24.388176Z",
     "iopub.status.idle": "2020-12-29T17:52:24.933338Z",
     "shell.execute_reply": "2020-12-29T17:52:24.934072Z"
    },
    "papermill": {
     "duration": 0.580409,
     "end_time": "2020-12-29T17:52:24.934264",
     "exception": false,
     "start_time": "2020-12-29T17:52:24.353855",
     "status": "completed"
    },
    "tags": []
   },
   "outputs": [
    {
     "name": "stdout",
     "output_type": "stream",
     "text": [
      "DecisionTreeClassifier 정확도: 0.7318\n",
      "RandomForestClassifier 정확도: 0.8492\n",
      "LogisticRegression 정확도: 0.8212\n"
     ]
    },
    {
     "name": "stderr",
     "output_type": "stream",
     "text": [
      "/opt/conda/lib/python3.7/site-packages/sklearn/linear_model/_logistic.py:764: ConvergenceWarning: lbfgs failed to converge (status=1):\n",
      "STOP: TOTAL NO. of ITERATIONS REACHED LIMIT.\n",
      "\n",
      "Increase the number of iterations (max_iter) or scale the data as shown in:\n",
      "    https://scikit-learn.org/stable/modules/preprocessing.html\n",
      "Please also refer to the documentation for alternative solver options:\n",
      "    https://scikit-learn.org/stable/modules/linear_model.html#logistic-regression\n",
      "  extra_warning_msg=_LOGISTIC_SOLVER_CONVERGENCE_MSG)\n"
     ]
    }
   ],
   "source": [
    "from sklearn.tree import DecisionTreeClassifier\n",
    "from sklearn.ensemble import RandomForestClassifier\n",
    "from sklearn.linear_model import LogisticRegression\n",
    "from sklearn.metrics import accuracy_score\n",
    "\n",
    "dt_clf = DecisionTreeClassifier(random_state = 11)\n",
    "rf_clf = RandomForestClassifier(random_state = 11)\n",
    "lr_clf = LogisticRegression()\n",
    "\n",
    "dt_clf.fit(X_train, y_train)\n",
    "dt_pred = dt_clf.predict(X_test)\n",
    "print('DecisionTreeClassifier 정확도: {0:.4f}'.format(accuracy_score(y_test, dt_pred)))\n",
    "\n",
    "rf_clf.fit(X_train, y_train)\n",
    "rf_pred = rf_clf.predict(X_test)\n",
    "print('RandomForestClassifier 정확도: {0:.4f}'.format(accuracy_score(y_test, rf_pred)))\n",
    "\n",
    "lr_clf.fit(X_train, y_train)\n",
    "lr_pred = lr_clf.predict(X_test)\n",
    "print('LogisticRegression 정확도: {0:.4f}'.format(accuracy_score(y_test, lr_pred)))"
   ]
  },
  {
   "cell_type": "markdown",
   "metadata": {
    "papermill": {
     "duration": 0.027886,
     "end_time": "2020-12-29T17:52:24.991013",
     "exception": false,
     "start_time": "2020-12-29T17:52:24.963127",
     "status": "completed"
    },
    "tags": []
   },
   "source": [
    "### I further evaluated the decision tree model with cross-validation."
   ]
  },
  {
   "cell_type": "code",
   "execution_count": 17,
   "metadata": {
    "execution": {
     "iopub.execute_input": "2020-12-29T17:52:25.059656Z",
     "iopub.status.busy": "2020-12-29T17:52:25.058965Z",
     "iopub.status.idle": "2020-12-29T17:52:25.089452Z",
     "shell.execute_reply": "2020-12-29T17:52:25.088660Z"
    },
    "papermill": {
     "duration": 0.071009,
     "end_time": "2020-12-29T17:52:25.089590",
     "exception": false,
     "start_time": "2020-12-29T17:52:25.018581",
     "status": "completed"
    },
    "tags": []
   },
   "outputs": [
    {
     "name": "stdout",
     "output_type": "stream",
     "text": [
      "KFold 0 정확도: 0.7263\n",
      "KFold 1 정확도: 0.7921\n",
      "KFold 2 정확도: 0.7921\n",
      "KFold 3 정확도: 0.7921\n",
      "KFold 4 정확도: 0.4045\n",
      "평균 정확도: 0.7014\n"
     ]
    }
   ],
   "source": [
    "from sklearn.model_selection import KFold\n",
    "\n",
    "def exec_kfold(clf, folds=5):\n",
    "    kfold = KFold(n_splits = folds)\n",
    "    scores = []\n",
    "    \n",
    "    for iter_count, (train_index, test_index) in enumerate(kfold.split(X_titanic_df)):\n",
    "        X_train, X_test = X_titanic_df.values[train_index], X_titanic_df.values[test_index]\n",
    "        y_train, y_test = y_titanic_df.values[train_index], y_titanic_df.values[test_index]\n",
    "        \n",
    "        clf.fit(X_train, y_train)\n",
    "        predictions = clf.predict(X_test)\n",
    "        accuracy = accuracy_score(y_test, predictions)\n",
    "        scores.append(accuracy)\n",
    "        print(\"KFold {0} 정확도: {1:.4f}\".format(iter_count, accuracy))\n",
    "        \n",
    "    mean_score = np.mean(scores)\n",
    "    print(\"평균 정확도: {0:.4f}\".format(mean_score))\n",
    "    \n",
    "exec_kfold(dt_clf, folds=5)\n"
   ]
  },
  {
   "cell_type": "code",
   "execution_count": 18,
   "metadata": {
    "execution": {
     "iopub.execute_input": "2020-12-29T17:52:25.156616Z",
     "iopub.status.busy": "2020-12-29T17:52:25.155912Z",
     "iopub.status.idle": "2020-12-29T17:52:25.201865Z",
     "shell.execute_reply": "2020-12-29T17:52:25.202374Z"
    },
    "papermill": {
     "duration": 0.080602,
     "end_time": "2020-12-29T17:52:25.202536",
     "exception": false,
     "start_time": "2020-12-29T17:52:25.121934",
     "status": "completed"
    },
    "tags": []
   },
   "outputs": [
    {
     "name": "stdout",
     "output_type": "stream",
     "text": [
      "교차 검증 0 정확도: 0.6034\n",
      "교차 검증 1 정확도: 0.7809\n",
      "교차 검증 2 정확도: 0.8090\n",
      "교차 검증 3 정확도: 0.7921\n",
      "교차 검증 4 정확도: 0.8202\n",
      "평균 정확도: 0.7611\n"
     ]
    }
   ],
   "source": [
    "from sklearn.model_selection import cross_val_score\n",
    "\n",
    "scores = cross_val_score(dt_clf, X_titanic_df, y_titanic_df, cv=5)\n",
    "for iter_count, accuracy in enumerate(scores):\n",
    "    print(\"교차 검증 {0} 정확도: {1:.4f}\".format(iter_count, accuracy))\n",
    "    \n",
    "print(\"평균 정확도: {0:.4f}\".format(np.mean(scores)))"
   ]
  },
  {
   "cell_type": "markdown",
   "metadata": {
    "papermill": {
     "duration": 0.028039,
     "end_time": "2020-12-29T17:52:25.259156",
     "exception": false,
     "start_time": "2020-12-29T17:52:25.231117",
     "status": "completed"
    },
    "tags": []
   },
   "source": [
    "### Used GridSearchCV to find hyperparameters and measure predictive performance."
   ]
  },
  {
   "cell_type": "code",
   "execution_count": 19,
   "metadata": {
    "execution": {
     "iopub.execute_input": "2020-12-29T17:52:25.326730Z",
     "iopub.status.busy": "2020-12-29T17:52:25.325676Z",
     "iopub.status.idle": "2020-12-29T17:52:26.420949Z",
     "shell.execute_reply": "2020-12-29T17:52:26.420314Z"
    },
    "papermill": {
     "duration": 1.132889,
     "end_time": "2020-12-29T17:52:26.421061",
     "exception": false,
     "start_time": "2020-12-29T17:52:25.288172",
     "status": "completed"
    },
    "tags": []
   },
   "outputs": [
    {
     "name": "stdout",
     "output_type": "stream",
     "text": [
      "GridSearchCV 최적 하이퍼 파라미터 : {'max_depth': 3, 'min_samples_leaf': 5, 'min_samples_split': 2}\n",
      "GridSearchCV 최고 정확도: 0.7978\n",
      "테스트 세트에서의 DecisionTreeClassifier 정확도: 0.8603\n"
     ]
    }
   ],
   "source": [
    "from sklearn.model_selection import GridSearchCV\n",
    "\n",
    "parameters = {'max_depth': [2,3,5,10],\n",
    "             'min_samples_split': [2,3,5], 'min_samples_leaf':[1,5,8]}\n",
    "\n",
    "grid_dclf = GridSearchCV(dt_clf, param_grid=parameters, scoring='accuracy', cv=5)\n",
    "grid_dclf.fit(X_train, y_train)\n",
    "\n",
    "print('GridSearchCV 최적 하이퍼 파라미터 :', grid_dclf.best_params_)\n",
    "print('GridSearchCV 최고 정확도: {0:.4f}'.format(grid_dclf.best_score_))\n",
    "best_dclf = grid_dclf.best_estimator_\n",
    "\n",
    "dpredictions = best_dclf.predict(X_test)\n",
    "accuracy = accuracy_score(y_test, dpredictions)\n",
    "print('테스트 세트에서의 DecisionTreeClassifier 정확도: {0:.4f}'.format(accuracy))"
   ]
  },
  {
   "cell_type": "markdown",
   "metadata": {
    "papermill": {
     "duration": 0.02894,
     "end_time": "2020-12-29T17:52:26.479613",
     "exception": false,
     "start_time": "2020-12-29T17:52:26.450673",
     "status": "completed"
    },
    "tags": []
   },
   "source": [
    "### I predicted the test file using the prediction model."
   ]
  },
  {
   "cell_type": "code",
   "execution_count": 20,
   "metadata": {
    "execution": {
     "iopub.execute_input": "2020-12-29T17:52:26.545644Z",
     "iopub.status.busy": "2020-12-29T17:52:26.544899Z",
     "iopub.status.idle": "2020-12-29T17:52:26.564286Z",
     "shell.execute_reply": "2020-12-29T17:52:26.563661Z"
    },
    "papermill": {
     "duration": 0.05548,
     "end_time": "2020-12-29T17:52:26.564398",
     "exception": false,
     "start_time": "2020-12-29T17:52:26.508918",
     "status": "completed"
    },
    "tags": []
   },
   "outputs": [
    {
     "data": {
      "text/html": [
       "<div>\n",
       "<style scoped>\n",
       "    .dataframe tbody tr th:only-of-type {\n",
       "        vertical-align: middle;\n",
       "    }\n",
       "\n",
       "    .dataframe tbody tr th {\n",
       "        vertical-align: top;\n",
       "    }\n",
       "\n",
       "    .dataframe thead th {\n",
       "        text-align: right;\n",
       "    }\n",
       "</style>\n",
       "<table border=\"1\" class=\"dataframe\">\n",
       "  <thead>\n",
       "    <tr style=\"text-align: right;\">\n",
       "      <th></th>\n",
       "      <th>PassengerId</th>\n",
       "      <th>Pclass</th>\n",
       "      <th>Name</th>\n",
       "      <th>Sex</th>\n",
       "      <th>Age</th>\n",
       "      <th>SibSp</th>\n",
       "      <th>Parch</th>\n",
       "      <th>Ticket</th>\n",
       "      <th>Fare</th>\n",
       "      <th>Cabin</th>\n",
       "      <th>Embarked</th>\n",
       "    </tr>\n",
       "  </thead>\n",
       "  <tbody>\n",
       "    <tr>\n",
       "      <th>0</th>\n",
       "      <td>892</td>\n",
       "      <td>3</td>\n",
       "      <td>Kelly, Mr. James</td>\n",
       "      <td>male</td>\n",
       "      <td>34.5</td>\n",
       "      <td>0</td>\n",
       "      <td>0</td>\n",
       "      <td>330911</td>\n",
       "      <td>7.8292</td>\n",
       "      <td>NaN</td>\n",
       "      <td>Q</td>\n",
       "    </tr>\n",
       "    <tr>\n",
       "      <th>1</th>\n",
       "      <td>893</td>\n",
       "      <td>3</td>\n",
       "      <td>Wilkes, Mrs. James (Ellen Needs)</td>\n",
       "      <td>female</td>\n",
       "      <td>47.0</td>\n",
       "      <td>1</td>\n",
       "      <td>0</td>\n",
       "      <td>363272</td>\n",
       "      <td>7.0000</td>\n",
       "      <td>NaN</td>\n",
       "      <td>S</td>\n",
       "    </tr>\n",
       "    <tr>\n",
       "      <th>2</th>\n",
       "      <td>894</td>\n",
       "      <td>2</td>\n",
       "      <td>Myles, Mr. Thomas Francis</td>\n",
       "      <td>male</td>\n",
       "      <td>62.0</td>\n",
       "      <td>0</td>\n",
       "      <td>0</td>\n",
       "      <td>240276</td>\n",
       "      <td>9.6875</td>\n",
       "      <td>NaN</td>\n",
       "      <td>Q</td>\n",
       "    </tr>\n",
       "  </tbody>\n",
       "</table>\n",
       "</div>"
      ],
      "text/plain": [
       "   PassengerId  Pclass                              Name     Sex   Age  SibSp  \\\n",
       "0          892       3                  Kelly, Mr. James    male  34.5      0   \n",
       "1          893       3  Wilkes, Mrs. James (Ellen Needs)  female  47.0      1   \n",
       "2          894       2         Myles, Mr. Thomas Francis    male  62.0      0   \n",
       "\n",
       "   Parch  Ticket    Fare Cabin Embarked  \n",
       "0      0  330911  7.8292   NaN        Q  \n",
       "1      0  363272  7.0000   NaN        S  \n",
       "2      0  240276  9.6875   NaN        Q  "
      ]
     },
     "execution_count": 20,
     "metadata": {},
     "output_type": "execute_result"
    }
   ],
   "source": [
    "new_titanic = pd.read_csv('../input/titanic/test.csv')\n",
    "new_titanic.head(3)"
   ]
  },
  {
   "cell_type": "code",
   "execution_count": 21,
   "metadata": {
    "execution": {
     "iopub.execute_input": "2020-12-29T17:52:26.636876Z",
     "iopub.status.busy": "2020-12-29T17:52:26.636210Z",
     "iopub.status.idle": "2020-12-29T17:52:26.640017Z",
     "shell.execute_reply": "2020-12-29T17:52:26.639346Z"
    },
    "papermill": {
     "duration": 0.04524,
     "end_time": "2020-12-29T17:52:26.640131",
     "exception": false,
     "start_time": "2020-12-29T17:52:26.594891",
     "status": "completed"
    },
    "tags": []
   },
   "outputs": [
    {
     "name": "stdout",
     "output_type": "stream",
     "text": [
      "<class 'pandas.core.frame.DataFrame'>\n",
      "RangeIndex: 418 entries, 0 to 417\n",
      "Data columns (total 11 columns):\n",
      " #   Column       Non-Null Count  Dtype  \n",
      "---  ------       --------------  -----  \n",
      " 0   PassengerId  418 non-null    int64  \n",
      " 1   Pclass       418 non-null    int64  \n",
      " 2   Name         418 non-null    object \n",
      " 3   Sex          418 non-null    object \n",
      " 4   Age          332 non-null    float64\n",
      " 5   SibSp        418 non-null    int64  \n",
      " 6   Parch        418 non-null    int64  \n",
      " 7   Ticket       418 non-null    object \n",
      " 8   Fare         417 non-null    float64\n",
      " 9   Cabin        91 non-null     object \n",
      " 10  Embarked     418 non-null    object \n",
      "dtypes: float64(2), int64(4), object(5)\n",
      "memory usage: 36.0+ KB\n"
     ]
    }
   ],
   "source": [
    "new_titanic.info()"
   ]
  },
  {
   "cell_type": "code",
   "execution_count": 22,
   "metadata": {
    "execution": {
     "iopub.execute_input": "2020-12-29T17:52:26.711510Z",
     "iopub.status.busy": "2020-12-29T17:52:26.710506Z",
     "iopub.status.idle": "2020-12-29T17:52:26.713825Z",
     "shell.execute_reply": "2020-12-29T17:52:26.713258Z"
    },
    "papermill": {
     "duration": 0.043701,
     "end_time": "2020-12-29T17:52:26.713942",
     "exception": false,
     "start_time": "2020-12-29T17:52:26.670241",
     "status": "completed"
    },
    "tags": []
   },
   "outputs": [],
   "source": [
    "y_new_titanic = titanic_df['Survived']\n",
    "X_new_titanic = transform_features(new_titanic)"
   ]
  },
  {
   "cell_type": "code",
   "execution_count": 23,
   "metadata": {
    "execution": {
     "iopub.execute_input": "2020-12-29T17:52:26.781544Z",
     "iopub.status.busy": "2020-12-29T17:52:26.780870Z",
     "iopub.status.idle": "2020-12-29T17:52:27.886273Z",
     "shell.execute_reply": "2020-12-29T17:52:27.885729Z"
    },
    "papermill": {
     "duration": 1.142281,
     "end_time": "2020-12-29T17:52:27.886399",
     "exception": false,
     "start_time": "2020-12-29T17:52:26.744118",
     "status": "completed"
    },
    "tags": []
   },
   "outputs": [],
   "source": [
    "grid_dclf = GridSearchCV(dt_clf, param_grid=parameters, scoring='accuracy', cv=5)\n",
    "grid_dclf.fit(X_train, y_train)\n",
    "\n",
    "prediction = best_dclf.predict(X_new_titanic)"
   ]
  },
  {
   "cell_type": "code",
   "execution_count": 24,
   "metadata": {
    "execution": {
     "iopub.execute_input": "2020-12-29T17:52:27.954028Z",
     "iopub.status.busy": "2020-12-29T17:52:27.953010Z",
     "iopub.status.idle": "2020-12-29T17:52:28.235445Z",
     "shell.execute_reply": "2020-12-29T17:52:28.234867Z"
    },
    "papermill": {
     "duration": 0.318784,
     "end_time": "2020-12-29T17:52:28.235558",
     "exception": false,
     "start_time": "2020-12-29T17:52:27.916774",
     "status": "completed"
    },
    "tags": []
   },
   "outputs": [
    {
     "data": {
      "text/html": [
       "<div>\n",
       "<style scoped>\n",
       "    .dataframe tbody tr th:only-of-type {\n",
       "        vertical-align: middle;\n",
       "    }\n",
       "\n",
       "    .dataframe tbody tr th {\n",
       "        vertical-align: top;\n",
       "    }\n",
       "\n",
       "    .dataframe thead th {\n",
       "        text-align: right;\n",
       "    }\n",
       "</style>\n",
       "<table border=\"1\" class=\"dataframe\">\n",
       "  <thead>\n",
       "    <tr style=\"text-align: right;\">\n",
       "      <th></th>\n",
       "      <th>PassengerId</th>\n",
       "      <th>Survived</th>\n",
       "    </tr>\n",
       "  </thead>\n",
       "  <tbody>\n",
       "    <tr>\n",
       "      <th>0</th>\n",
       "      <td>892</td>\n",
       "      <td>0</td>\n",
       "    </tr>\n",
       "    <tr>\n",
       "      <th>1</th>\n",
       "      <td>893</td>\n",
       "      <td>1</td>\n",
       "    </tr>\n",
       "    <tr>\n",
       "      <th>2</th>\n",
       "      <td>894</td>\n",
       "      <td>0</td>\n",
       "    </tr>\n",
       "    <tr>\n",
       "      <th>3</th>\n",
       "      <td>895</td>\n",
       "      <td>0</td>\n",
       "    </tr>\n",
       "    <tr>\n",
       "      <th>4</th>\n",
       "      <td>896</td>\n",
       "      <td>1</td>\n",
       "    </tr>\n",
       "  </tbody>\n",
       "</table>\n",
       "</div>"
      ],
      "text/plain": [
       "   PassengerId  Survived\n",
       "0          892         0\n",
       "1          893         1\n",
       "2          894         0\n",
       "3          895         0\n",
       "4          896         1"
      ]
     },
     "execution_count": 24,
     "metadata": {},
     "output_type": "execute_result"
    }
   ],
   "source": [
    "submission = pd.DataFrame({\n",
    "        \"PassengerId\":new_titanic['PassengerId'],\n",
    "        'Survived': prediction\n",
    "    })\n",
    "\n",
    "submission.to_csv('submission.csv', index=False)\n",
    "\n",
    "submission = pd.read_csv('submission.csv')\n",
    "submission.head()"
   ]
  },
  {
   "cell_type": "markdown",
   "metadata": {
    "papermill": {
     "duration": 0.030547,
     "end_time": "2020-12-29T17:52:28.296908",
     "exception": false,
     "start_time": "2020-12-29T17:52:28.266361",
     "status": "completed"
    },
    "tags": []
   },
   "source": [
    "I predicted it for the first time when I started learning machine learning, but I was a little sad because the accuracy was not high.\n",
    "\n",
    "It was an experience that made me think that I should work harder while looking at other people's notebook.\n",
    "\n",
    "-I wrote the code after reading Kwon Chul Min's Python Machine Learning Perfect Guide book."
   ]
  },
  {
   "cell_type": "code",
   "execution_count": null,
   "metadata": {
    "papermill": {
     "duration": 0.030924,
     "end_time": "2020-12-29T17:52:28.359715",
     "exception": false,
     "start_time": "2020-12-29T17:52:28.328791",
     "status": "completed"
    },
    "tags": []
   },
   "outputs": [],
   "source": []
  }
 ],
 "metadata": {
  "kernelspec": {
   "display_name": "Python 3",
   "language": "python",
   "name": "python3"
  },
  "language_info": {
   "codemirror_mode": {
    "name": "ipython",
    "version": 3
   },
   "file_extension": ".py",
   "mimetype": "text/x-python",
   "name": "python",
   "nbconvert_exporter": "python",
   "pygments_lexer": "ipython3",
   "version": "3.7.6"
  },
  "papermill": {
   "duration": 12.500406,
   "end_time": "2020-12-29T17:52:28.497925",
   "environment_variables": {},
   "exception": null,
   "input_path": "__notebook__.ipynb",
   "output_path": "__notebook__.ipynb",
   "parameters": {},
   "start_time": "2020-12-29T17:52:15.997519",
   "version": "2.1.0"
  }
 },
 "nbformat": 4,
 "nbformat_minor": 4
}
